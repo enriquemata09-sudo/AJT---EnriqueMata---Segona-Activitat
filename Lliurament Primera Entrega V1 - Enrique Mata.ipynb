{
 "cells": [
  {
   "cell_type": "markdown",
   "id": "b88d18e3",
   "metadata": {},
   "source": [
    "Excercici 1"
   ]
  },
  {
   "cell_type": "code",
   "execution_count": 18,
   "id": "ce1f9a35",
   "metadata": {},
   "outputs": [
    {
     "name": "stdout",
     "output_type": "stream",
     "text": [
      "[0, 1, 2, 3, 4, 5, 6, 7, 8, 9, 10, 11, 12, 13, 14, 15, 16, 17, 18, 19, 20, 21, 22, 23, 24, 25, 26, 27, 28, 29, 30, 31, 32, 33, 34, 35, 36, 37, 38, 39, 40, 41, 42, 43, 44, 45, 46, 47, 48, 49, 50, 51, 52, 53, 54, 55, 56, 57, 58, 59, 60, 61, 62, 63, 64, 65, 66, 67, 68, 69, 70, 71, 72, 73, 74, 75, 76, 77, 78, 79, 80, 81, 82, 83, 84, 85, 86, 87, 88, 89, 90, 91, 92, 93, 94, 95, 96, 97, 98, 99, 100]\n"
     ]
    }
   ],
   "source": [
    "\n",
    "import math\n",
    "llista_radis = list(range(101))\n",
    "print(llista_radis)\n",
    "\n",
    "llista_perimetres = [round(2 * math.pi * r) for r in llista_radis]"
   ]
  },
  {
   "cell_type": "code",
   "execution_count": 19,
   "id": "4c80d613",
   "metadata": {},
   "outputs": [],
   "source": [
    "llista_areas = [round(math.pi * r**2) for r in llista_radis]"
   ]
  },
  {
   "cell_type": "code",
   "execution_count": 20,
   "id": "f8bd621a",
   "metadata": {},
   "outputs": [],
   "source": [
    "\n",
    "llista_volums = [round((4/3) * math.pi * r**3) for r in llista_radis]"
   ]
  },
  {
   "cell_type": "code",
   "execution_count": 21,
   "id": "efce0869",
   "metadata": {},
   "outputs": [
    {
     "name": "stdout",
     "output_type": "stream",
     "text": [
      "Perímetres (radis parells): [0, 13, 25, 38, 50, 63, 75, 88, 101, 113, 126, 138, 151, 163, 176, 188, 201, 214, 226, 239, 251, 264, 276, 289, 302, 314, 327, 339, 352, 364, 377, 390, 402, 415, 427, 440, 452, 465, 478, 490, 503, 515, 528, 540, 553, 565, 578, 591, 603, 616, 628]\n"
     ]
    }
   ],
   "source": [
    "print(\"Perímetres (radis parells):\", [llista_perimetres[r] for r in llista_radis if r % 2 == 0])"
   ]
  },
  {
   "cell_type": "code",
   "execution_count": 22,
   "id": "f1c3ec14",
   "metadata": {},
   "outputs": [
    {
     "name": "stdout",
     "output_type": "stream",
     "text": [
      "Àrees (radis múltiples de 3): [0, 28, 113, 254, 452, 707, 1018, 1385, 1810, 2290, 2827, 3421, 4072, 4778, 5542, 6362, 7238, 8171, 9161, 10207, 11310, 12469, 13685, 14957, 16286, 17671, 19113, 20612, 22167, 23779, 25447, 27172, 28953, 30791]\n"
     ]
    }
   ],
   "source": [
    "print(\"Àrees (radis múltiples de 3):\", [llista_areas[r] for r in llista_radis if r % 3 == 0])"
   ]
  },
  {
   "cell_type": "code",
   "execution_count": 23,
   "id": "a3f77295",
   "metadata": {},
   "outputs": [
    {
     "name": "stdout",
     "output_type": "stream",
     "text": [
      "Volums (últims 5 radis): [3705973, 3822996, 3942456, 4064379, 4188790]\n"
     ]
    }
   ],
   "source": [
    "\n",
    "print(\"Volums (últims 5 radis):\", llista_volums[-5:])"
   ]
  },
  {
   "cell_type": "markdown",
   "id": "1511a9df",
   "metadata": {},
   "source": [
    "Excercici 2"
   ]
  },
  {
   "cell_type": "code",
   "execution_count": 1,
   "id": "9c05fdd2",
   "metadata": {},
   "outputs": [
    {
     "data": {
      "text/plain": [
       "['  anna  ', 'MARC', 'joan  ', '  Laia']"
      ]
     },
     "execution_count": 1,
     "metadata": {},
     "output_type": "execute_result"
    }
   ],
   "source": [
    "\n",
    "noms = [\"  anna  \", \"MARC\", \"joan  \", \"  Laia\"]\n",
    "noms"
   ]
  },
  {
   "cell_type": "code",
   "execution_count": 31,
   "id": "0dd50e70",
   "metadata": {},
   "outputs": [
    {
     "name": "stdout",
     "output_type": "stream",
     "text": [
      "['anna', 'MARC', 'joan', 'Laia']\n"
     ]
    }
   ],
   "source": [
    "\n",
    "noms_nets = [n.strip() for n in noms if n.strip() != \"\"]\n",
    "print(noms_nets)\n"
   ]
  },
  {
   "cell_type": "code",
   "execution_count": 32,
   "id": "5fd3a110",
   "metadata": {},
   "outputs": [
    {
     "name": "stdout",
     "output_type": "stream",
     "text": [
      "['Anna', 'Marc', 'Joan', 'Laia']\n"
     ]
    }
   ],
   "source": [
    "\n",
    "noms_nets_2 = [n.capitalize() for n in noms_nets]\n",
    "print(noms_nets_2)"
   ]
  },
  {
   "cell_type": "code",
   "execution_count": 33,
   "id": "4a7eeecc",
   "metadata": {},
   "outputs": [
    {
     "name": "stdout",
     "output_type": "stream",
     "text": [
      "[8, 4, 6, 6]\n"
     ]
    }
   ],
   "source": [
    "llargades_original = [len(n) for n in noms]\n",
    "print(llargades_original)"
   ]
  },
  {
   "cell_type": "code",
   "execution_count": 34,
   "id": "53f7556e",
   "metadata": {},
   "outputs": [
    {
     "name": "stdout",
     "output_type": "stream",
     "text": [
      "[4, 4, 4, 4]\n"
     ]
    }
   ],
   "source": [
    "\n",
    "llargades_final = [len(n) for n in noms_nets_2]\n",
    "print(llargades_final)\n"
   ]
  },
  {
   "cell_type": "code",
   "execution_count": 35,
   "id": "b68eab1d",
   "metadata": {},
   "outputs": [
    {
     "name": "stdout",
     "output_type": "stream",
     "text": [
      "Diferència de caràcters entre Anna i Joan: 0\n"
     ]
    }
   ],
   "source": [
    "\n",
    "diferencia = abs(llargades_final[noms_nets_2.index(\"Anna\")] - llargades_final[noms_nets_2.index(\"Joan\")])\n",
    "print(\"Diferència de caràcters entre Anna i Joan:\", diferencia)\n"
   ]
  },
  {
   "cell_type": "code",
   "execution_count": 36,
   "id": "104b8bac",
   "metadata": {},
   "outputs": [
    {
     "name": "stdout",
     "output_type": "stream",
     "text": [
      "[4]\n"
     ]
    }
   ],
   "source": [
    "diferecncia_a = [len(noms[0]) - len(noms_nets[0])]\n",
    "print(diferecncia_a)"
   ]
  },
  {
   "cell_type": "code",
   "execution_count": 37,
   "id": "5f09ae25",
   "metadata": {},
   "outputs": [
    {
     "name": "stdout",
     "output_type": "stream",
     "text": [
      "[2]\n"
     ]
    }
   ],
   "source": [
    "diferecncia_j = [len(noms[2]) - len(noms_nets[2])]\n",
    "print(diferecncia_j)"
   ]
  },
  {
   "cell_type": "markdown",
   "id": "6aeca17a",
   "metadata": {},
   "source": [
    "Excercici 3"
   ]
  },
  {
   "cell_type": "code",
   "execution_count": 38,
   "id": "7c30233d",
   "metadata": {},
   "outputs": [],
   "source": [
    "alumne = {\n",
    "\"nom\": [\"Bernat\", \"Ortega\", \"Navas\"],\n",
    "\"curs\": \"2n Batx\",\n",
    "\"notes\": {\n",
    "\"T1\": {\"CAT\": [7, 8, 9], \"CAS\": [5, 6, 8], \"MAT\": [4, 5, 7]},\n",
    "\"T2\": {\"CAT\": [4, 5, 5], \"CAS\": [5, 6, 7], \"MAT\": [8, 7, 5]},\n",
    "\"T3\": {\"CAT\": [6, 6, 6], \"CAS\": [7, 8, 9], \"MAT\": [6, 8, 9]}\n",
    "}\n",
    "}"
   ]
  },
  {
   "cell_type": "code",
   "execution_count": 39,
   "id": "02a9401e",
   "metadata": {},
   "outputs": [
    {
     "name": "stdout",
     "output_type": "stream",
     "text": [
      "8\n"
     ]
    }
   ],
   "source": [
    "print(alumne[\"notes\"][\"T1\"][\"CAS\"][-1]) "
   ]
  },
  {
   "cell_type": "code",
   "execution_count": 40,
   "id": "b97b2e14",
   "metadata": {},
   "outputs": [
    {
     "name": "stdout",
     "output_type": "stream",
     "text": [
      "3\n"
     ]
    }
   ],
   "source": [
    "print(len(alumne[\"notes\"][\"T2\"][\"CAT\"])) "
   ]
  },
  {
   "cell_type": "code",
   "execution_count": 41,
   "id": "7175c306",
   "metadata": {},
   "outputs": [
    {
     "name": "stdout",
     "output_type": "stream",
     "text": [
      "['Bernat', 'Ortega', 'Navas']\n"
     ]
    }
   ],
   "source": [
    "print(alumne[\"nom\"])"
   ]
  },
  {
   "cell_type": "code",
   "execution_count": 42,
   "id": "910abd90",
   "metadata": {},
   "outputs": [
    {
     "name": "stdout",
     "output_type": "stream",
     "text": [
      "7.666666666666667\n"
     ]
    }
   ],
   "source": [
    "suma = sum(alumne[\"notes\"][\"T3\"][\"MAT\"])\n",
    "n_notes = len(alumne[\"notes\"][\"T3\"][\"MAT\"])\n",
    "print(suma / n_notes) "
   ]
  },
  {
   "cell_type": "markdown",
   "id": "4d578a6f",
   "metadata": {},
   "source": [
    "Excercici 4"
   ]
  },
  {
   "cell_type": "code",
   "execution_count": 4,
   "id": "a380d425",
   "metadata": {},
   "outputs": [],
   "source": [
    "A = [1, 2, 1] \n",
    "B = [-1, 1, 2]"
   ]
  },
  {
   "cell_type": "code",
   "execution_count": 5,
   "id": "bb62cddb",
   "metadata": {},
   "outputs": [
    {
     "name": "stdout",
     "output_type": "stream",
     "text": [
      "C = [0, 3, 3]\n"
     ]
    }
   ],
   "source": [
    "C = [A[0] + B[0], A[1] + B[1], A[2] + B[2]]\n",
    "print(\"C =\", C)"
   ]
  },
  {
   "cell_type": "code",
   "execution_count": 6,
   "id": "81a84738",
   "metadata": {},
   "outputs": [
    {
     "name": "stdout",
     "output_type": "stream",
     "text": [
      "D = [-1, -1, 3, 5, 2]\n"
     ]
    }
   ],
   "source": [
    "d0 = A[0] * B[0]\n",
    "d1 = A[0] * B[1] + A[1] * B[0]\n",
    "d2 = A[1] * B[1] + A[2] * B[0] + A[0] * B[2]\n",
    "d3 = A[1] * B[2] + A[2] * B[1]\n",
    "d4 = A[2] * B[2]\n",
    "D = [d0, d1, d2, d3, d4]\n",
    "print(\"D =\", D)\n"
   ]
  },
  {
   "cell_type": "code",
   "execution_count": null,
   "id": "854de75c",
   "metadata": {},
   "outputs": [],
   "source": []
  }
 ],
 "metadata": {
  "kernelspec": {
   "display_name": "AppJT-CYNiPx3S",
   "language": "python",
   "name": "python3"
  },
  "language_info": {
   "codemirror_mode": {
    "name": "ipython",
    "version": 3
   },
   "file_extension": ".py",
   "mimetype": "text/x-python",
   "name": "python",
   "nbconvert_exporter": "python",
   "pygments_lexer": "ipython3",
   "version": "3.13.7"
  }
 },
 "nbformat": 4,
 "nbformat_minor": 5
}
